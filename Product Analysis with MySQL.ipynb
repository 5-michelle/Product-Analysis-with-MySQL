{
 "cells": [
  {
   "cell_type": "code",
   "execution_count": 1,
   "metadata": {},
   "outputs": [],
   "source": [
    "# %pip install mysql-connector-python\n",
    "\n",
    "import mysql.connector\n",
    "import pandas as pd"
   ]
  },
  {
   "cell_type": "markdown",
   "metadata": {},
   "source": [
    "#### Connection and Show Tables"
   ]
  },
  {
   "cell_type": "code",
   "execution_count": 2,
   "metadata": {
    "scrolled": true
   },
   "outputs": [
    {
     "name": "stdout",
     "output_type": "stream",
     "text": [
      "✅ Connected to MySQL successfully!\n"
     ]
    }
   ],
   "source": [
    "# Check connection to Mysql\n",
    "try:\n",
    "    conn = mysql.connector.connect(\n",
    "        host=\"***\",  \n",
    "        user=\"***\",\n",
    "        password=\"***\",  \n",
    "        database=\"product_sales_db\",\n",
    "        port=3306\n",
    "    )\n",
    "    print(\"✅ Connected to MySQL successfully!\")\n",
    "    conn.close()\n",
    "except mysql.connector.Error as err:\n",
    "    print(f\"❌ MySQL Error: {err}\")\n"
   ]
  },
  {
   "cell_type": "code",
   "execution_count": 3,
   "metadata": {},
   "outputs": [
    {
     "name": "stdout",
     "output_type": "stream",
     "text": [
      "\n",
      " PRODUCT_CLASSES Table \n",
      "\n"
     ]
    },
    {
     "data": {
      "text/html": [
       "<div>\n",
       "<style scoped>\n",
       "    .dataframe tbody tr th:only-of-type {\n",
       "        vertical-align: middle;\n",
       "    }\n",
       "\n",
       "    .dataframe tbody tr th {\n",
       "        vertical-align: top;\n",
       "    }\n",
       "\n",
       "    .dataframe thead th {\n",
       "        text-align: right;\n",
       "    }\n",
       "</style>\n",
       "<table border=\"1\" class=\"dataframe\">\n",
       "  <thead>\n",
       "    <tr style=\"text-align: right;\">\n",
       "      <th></th>\n",
       "      <th>product_class_id</th>\n",
       "      <th>product_subcategory</th>\n",
       "      <th>product_category</th>\n",
       "      <th>product_department</th>\n",
       "      <th>product_family</th>\n",
       "    </tr>\n",
       "  </thead>\n",
       "  <tbody>\n",
       "    <tr>\n",
       "      <th>0</th>\n",
       "      <td>1</td>\n",
       "      <td>Cereal</td>\n",
       "      <td>Food</td>\n",
       "      <td>Grocery</td>\n",
       "      <td>Breakfast</td>\n",
       "    </tr>\n",
       "    <tr>\n",
       "      <th>1</th>\n",
       "      <td>2</td>\n",
       "      <td>Beverage</td>\n",
       "      <td>Drinks</td>\n",
       "      <td>Grocery</td>\n",
       "      <td>Soft Drinks</td>\n",
       "    </tr>\n",
       "    <tr>\n",
       "      <th>2</th>\n",
       "      <td>3</td>\n",
       "      <td>Dairy</td>\n",
       "      <td>Food</td>\n",
       "      <td>Refrigerated</td>\n",
       "      <td>Milk Products</td>\n",
       "    </tr>\n",
       "    <tr>\n",
       "      <th>3</th>\n",
       "      <td>4</td>\n",
       "      <td>Tissue</td>\n",
       "      <td>Daily</td>\n",
       "      <td>Grocery</td>\n",
       "      <td>Daily Use</td>\n",
       "    </tr>\n",
       "  </tbody>\n",
       "</table>\n",
       "</div>"
      ],
      "text/plain": [
       "   product_class_id product_subcategory product_category product_department  \\\n",
       "0                 1              Cereal             Food            Grocery   \n",
       "1                 2            Beverage           Drinks            Grocery   \n",
       "2                 3               Dairy             Food       Refrigerated   \n",
       "3                 4              Tissue            Daily            Grocery   \n",
       "\n",
       "  product_family  \n",
       "0      Breakfast  \n",
       "1    Soft Drinks  \n",
       "2  Milk Products  \n",
       "3      Daily Use  "
      ]
     },
     "metadata": {},
     "output_type": "display_data"
    },
    {
     "name": "stdout",
     "output_type": "stream",
     "text": [
      "\n",
      " PRODUCTS Table \n",
      "\n"
     ]
    },
    {
     "data": {
      "text/html": [
       "<div>\n",
       "<style scoped>\n",
       "    .dataframe tbody tr th:only-of-type {\n",
       "        vertical-align: middle;\n",
       "    }\n",
       "\n",
       "    .dataframe tbody tr th {\n",
       "        vertical-align: top;\n",
       "    }\n",
       "\n",
       "    .dataframe thead th {\n",
       "        text-align: right;\n",
       "    }\n",
       "</style>\n",
       "<table border=\"1\" class=\"dataframe\">\n",
       "  <thead>\n",
       "    <tr style=\"text-align: right;\">\n",
       "      <th></th>\n",
       "      <th>product_id</th>\n",
       "      <th>product_class_id</th>\n",
       "      <th>brand_name</th>\n",
       "      <th>product_name</th>\n",
       "      <th>is_low_fat_flg</th>\n",
       "      <th>is_recyclable_flg</th>\n",
       "      <th>gross_weight</th>\n",
       "      <th>net_weight</th>\n",
       "    </tr>\n",
       "  </thead>\n",
       "  <tbody>\n",
       "    <tr>\n",
       "      <th>0</th>\n",
       "      <td>101</td>\n",
       "      <td>1</td>\n",
       "      <td>Kellogg</td>\n",
       "      <td>Corn Flakes</td>\n",
       "      <td>1</td>\n",
       "      <td>1</td>\n",
       "      <td>500.0</td>\n",
       "      <td>450.0</td>\n",
       "    </tr>\n",
       "    <tr>\n",
       "      <th>1</th>\n",
       "      <td>102</td>\n",
       "      <td>2</td>\n",
       "      <td>Coca-Cola</td>\n",
       "      <td>Coke Zero</td>\n",
       "      <td>1</td>\n",
       "      <td>1</td>\n",
       "      <td>350.0</td>\n",
       "      <td>330.0</td>\n",
       "    </tr>\n",
       "    <tr>\n",
       "      <th>2</th>\n",
       "      <td>103</td>\n",
       "      <td>3</td>\n",
       "      <td>DairyPure</td>\n",
       "      <td>Whole Milk</td>\n",
       "      <td>0</td>\n",
       "      <td>1</td>\n",
       "      <td>1000.0</td>\n",
       "      <td>950.0</td>\n",
       "    </tr>\n",
       "    <tr>\n",
       "      <th>3</th>\n",
       "      <td>104</td>\n",
       "      <td>4</td>\n",
       "      <td>Denny</td>\n",
       "      <td>Tissue</td>\n",
       "      <td>0</td>\n",
       "      <td>1</td>\n",
       "      <td>18.6</td>\n",
       "      <td>16.6</td>\n",
       "    </tr>\n",
       "  </tbody>\n",
       "</table>\n",
       "</div>"
      ],
      "text/plain": [
       "   product_id  product_class_id brand_name product_name  is_low_fat_flg  \\\n",
       "0         101                 1    Kellogg  Corn Flakes               1   \n",
       "1         102                 2  Coca-Cola    Coke Zero               1   \n",
       "2         103                 3  DairyPure   Whole Milk               0   \n",
       "3         104                 4      Denny       Tissue               0   \n",
       "\n",
       "   is_recyclable_flg  gross_weight  net_weight  \n",
       "0                  1         500.0       450.0  \n",
       "1                  1         350.0       330.0  \n",
       "2                  1        1000.0       950.0  \n",
       "3                  1          18.6        16.6  "
      ]
     },
     "metadata": {},
     "output_type": "display_data"
    },
    {
     "name": "stdout",
     "output_type": "stream",
     "text": [
      "\n",
      " PROMOTIONS Table \n",
      "\n"
     ]
    },
    {
     "data": {
      "text/html": [
       "<div>\n",
       "<style scoped>\n",
       "    .dataframe tbody tr th:only-of-type {\n",
       "        vertical-align: middle;\n",
       "    }\n",
       "\n",
       "    .dataframe tbody tr th {\n",
       "        vertical-align: top;\n",
       "    }\n",
       "\n",
       "    .dataframe thead th {\n",
       "        text-align: right;\n",
       "    }\n",
       "</style>\n",
       "<table border=\"1\" class=\"dataframe\">\n",
       "  <thead>\n",
       "    <tr style=\"text-align: right;\">\n",
       "      <th></th>\n",
       "      <th>promotion_id</th>\n",
       "      <th>promotion_name</th>\n",
       "      <th>media_type</th>\n",
       "      <th>cost</th>\n",
       "      <th>start_date</th>\n",
       "      <th>end_date</th>\n",
       "    </tr>\n",
       "  </thead>\n",
       "  <tbody>\n",
       "    <tr>\n",
       "      <th>0</th>\n",
       "      <td>201</td>\n",
       "      <td>Summer Sale</td>\n",
       "      <td>TV</td>\n",
       "      <td>50.0</td>\n",
       "      <td>2024-06-01</td>\n",
       "      <td>2024-06-30</td>\n",
       "    </tr>\n",
       "    <tr>\n",
       "      <th>1</th>\n",
       "      <td>202</td>\n",
       "      <td>Holiday Discount</td>\n",
       "      <td>Online</td>\n",
       "      <td>3000.0</td>\n",
       "      <td>2024-12-01</td>\n",
       "      <td>2024-12-31</td>\n",
       "    </tr>\n",
       "    <tr>\n",
       "      <th>2</th>\n",
       "      <td>203</td>\n",
       "      <td>Back to School</td>\n",
       "      <td>Radio</td>\n",
       "      <td>200.0</td>\n",
       "      <td>2024-08-01</td>\n",
       "      <td>2024-08-15</td>\n",
       "    </tr>\n",
       "    <tr>\n",
       "      <th>3</th>\n",
       "      <td>204</td>\n",
       "      <td>Black Monday</td>\n",
       "      <td>Grocery</td>\n",
       "      <td>10000.0</td>\n",
       "      <td>2024-11-01</td>\n",
       "      <td>2024-11-02</td>\n",
       "    </tr>\n",
       "  </tbody>\n",
       "</table>\n",
       "</div>"
      ],
      "text/plain": [
       "   promotion_id    promotion_name media_type     cost  start_date    end_date\n",
       "0           201       Summer Sale         TV     50.0  2024-06-01  2024-06-30\n",
       "1           202  Holiday Discount     Online   3000.0  2024-12-01  2024-12-31\n",
       "2           203    Back to School      Radio    200.0  2024-08-01  2024-08-15\n",
       "3           204      Black Monday    Grocery  10000.0  2024-11-01  2024-11-02"
      ]
     },
     "metadata": {},
     "output_type": "display_data"
    },
    {
     "name": "stdout",
     "output_type": "stream",
     "text": [
      "\n",
      " SALES Table \n",
      "\n"
     ]
    },
    {
     "data": {
      "text/html": [
       "<div>\n",
       "<style scoped>\n",
       "    .dataframe tbody tr th:only-of-type {\n",
       "        vertical-align: middle;\n",
       "    }\n",
       "\n",
       "    .dataframe tbody tr th {\n",
       "        vertical-align: top;\n",
       "    }\n",
       "\n",
       "    .dataframe thead th {\n",
       "        text-align: right;\n",
       "    }\n",
       "</style>\n",
       "<table border=\"1\" class=\"dataframe\">\n",
       "  <thead>\n",
       "    <tr style=\"text-align: right;\">\n",
       "      <th></th>\n",
       "      <th>product_id</th>\n",
       "      <th>store_id</th>\n",
       "      <th>customer_id</th>\n",
       "      <th>promotion_id</th>\n",
       "      <th>store_sales</th>\n",
       "      <th>store_cost</th>\n",
       "      <th>units_sold</th>\n",
       "      <th>transaction_date</th>\n",
       "    </tr>\n",
       "  </thead>\n",
       "  <tbody>\n",
       "    <tr>\n",
       "      <th>0</th>\n",
       "      <td>101</td>\n",
       "      <td>1</td>\n",
       "      <td>1001</td>\n",
       "      <td>201.0</td>\n",
       "      <td>50.0</td>\n",
       "      <td>30.0</td>\n",
       "      <td>10.0</td>\n",
       "      <td>2024-06-05</td>\n",
       "    </tr>\n",
       "    <tr>\n",
       "      <th>1</th>\n",
       "      <td>102</td>\n",
       "      <td>2</td>\n",
       "      <td>1002</td>\n",
       "      <td>202.0</td>\n",
       "      <td>100.0</td>\n",
       "      <td>60.0</td>\n",
       "      <td>20.0</td>\n",
       "      <td>2024-12-10</td>\n",
       "    </tr>\n",
       "    <tr>\n",
       "      <th>2</th>\n",
       "      <td>103</td>\n",
       "      <td>1</td>\n",
       "      <td>1003</td>\n",
       "      <td>203.0</td>\n",
       "      <td>75.0</td>\n",
       "      <td>40.0</td>\n",
       "      <td>15.0</td>\n",
       "      <td>2024-08-05</td>\n",
       "    </tr>\n",
       "    <tr>\n",
       "      <th>3</th>\n",
       "      <td>101</td>\n",
       "      <td>3</td>\n",
       "      <td>1004</td>\n",
       "      <td>NaN</td>\n",
       "      <td>40.0</td>\n",
       "      <td>25.0</td>\n",
       "      <td>8.0</td>\n",
       "      <td>2024-07-01</td>\n",
       "    </tr>\n",
       "    <tr>\n",
       "      <th>4</th>\n",
       "      <td>102</td>\n",
       "      <td>2</td>\n",
       "      <td>1005</td>\n",
       "      <td>201.0</td>\n",
       "      <td>90.0</td>\n",
       "      <td>50.0</td>\n",
       "      <td>18.0</td>\n",
       "      <td>2024-06-20</td>\n",
       "    </tr>\n",
       "    <tr>\n",
       "      <th>5</th>\n",
       "      <td>102</td>\n",
       "      <td>1</td>\n",
       "      <td>1001</td>\n",
       "      <td>201.0</td>\n",
       "      <td>50.0</td>\n",
       "      <td>30.0</td>\n",
       "      <td>2.0</td>\n",
       "      <td>2024-02-25</td>\n",
       "    </tr>\n",
       "    <tr>\n",
       "      <th>6</th>\n",
       "      <td>103</td>\n",
       "      <td>2</td>\n",
       "      <td>1001</td>\n",
       "      <td>201.0</td>\n",
       "      <td>75.0</td>\n",
       "      <td>40.0</td>\n",
       "      <td>3.0</td>\n",
       "      <td>2024-02-26</td>\n",
       "    </tr>\n",
       "    <tr>\n",
       "      <th>7</th>\n",
       "      <td>102</td>\n",
       "      <td>3</td>\n",
       "      <td>1002</td>\n",
       "      <td>202.0</td>\n",
       "      <td>100.0</td>\n",
       "      <td>60.0</td>\n",
       "      <td>5.0</td>\n",
       "      <td>2024-02-27</td>\n",
       "    </tr>\n",
       "    <tr>\n",
       "      <th>8</th>\n",
       "      <td>101</td>\n",
       "      <td>1</td>\n",
       "      <td>1003</td>\n",
       "      <td>201.0</td>\n",
       "      <td>120.0</td>\n",
       "      <td>70.0</td>\n",
       "      <td>4.0</td>\n",
       "      <td>2024-02-28</td>\n",
       "    </tr>\n",
       "  </tbody>\n",
       "</table>\n",
       "</div>"
      ],
      "text/plain": [
       "   product_id  store_id  customer_id  promotion_id  store_sales  store_cost  \\\n",
       "0         101         1         1001         201.0         50.0        30.0   \n",
       "1         102         2         1002         202.0        100.0        60.0   \n",
       "2         103         1         1003         203.0         75.0        40.0   \n",
       "3         101         3         1004           NaN         40.0        25.0   \n",
       "4         102         2         1005         201.0         90.0        50.0   \n",
       "5         102         1         1001         201.0         50.0        30.0   \n",
       "6         103         2         1001         201.0         75.0        40.0   \n",
       "7         102         3         1002         202.0        100.0        60.0   \n",
       "8         101         1         1003         201.0        120.0        70.0   \n",
       "\n",
       "   units_sold transaction_date  \n",
       "0        10.0       2024-06-05  \n",
       "1        20.0       2024-12-10  \n",
       "2        15.0       2024-08-05  \n",
       "3         8.0       2024-07-01  \n",
       "4        18.0       2024-06-20  \n",
       "5         2.0       2024-02-25  \n",
       "6         3.0       2024-02-26  \n",
       "7         5.0       2024-02-27  \n",
       "8         4.0       2024-02-28  "
      ]
     },
     "metadata": {},
     "output_type": "display_data"
    }
   ],
   "source": [
    "# Connect to MySQL database\n",
    "conn = mysql.connector.connect(\n",
    "    host=\"***\",  \n",
    "    user=\"***\",\n",
    "    password=\"***\",  \n",
    "    database=\"product_sales_db\",\n",
    "    port=3306\n",
    ")\n",
    "cursor = conn.cursor()\n",
    "\n",
    "# Function to fetch and display tables\n",
    "def fetch_table(table_name):\n",
    "    query = f\"SELECT * FROM {table_name}\"\n",
    "    df = pd.read_sql(query, conn)\n",
    "    return df\n",
    "\n",
    "# Fetch all tables\n",
    "tables = [\"product_classes\", \"products\", \"promotions\", \"sales\"]\n",
    "for table in tables:\n",
    "    print(f\"\\n {table.upper()} Table \\n\")\n",
    "    display(fetch_table(table))"
   ]
  },
  {
   "cell_type": "markdown",
   "metadata": {},
   "source": [
    "### The VP of Sales feels that some product categories don't sell and can be completely removed from the inventory.\n",
    "Find out What percentage of product categories have never been sold."
   ]
  },
  {
   "cell_type": "code",
   "execution_count": 4,
   "metadata": {},
   "outputs": [
    {
     "data": {
      "text/html": [
       "<div>\n",
       "<style scoped>\n",
       "    .dataframe tbody tr th:only-of-type {\n",
       "        vertical-align: middle;\n",
       "    }\n",
       "\n",
       "    .dataframe tbody tr th {\n",
       "        vertical-align: top;\n",
       "    }\n",
       "\n",
       "    .dataframe thead th {\n",
       "        text-align: right;\n",
       "    }\n",
       "</style>\n",
       "<table border=\"1\" class=\"dataframe\">\n",
       "  <thead>\n",
       "    <tr style=\"text-align: right;\">\n",
       "      <th></th>\n",
       "      <th>pct_product_categories_never_sold</th>\n",
       "    </tr>\n",
       "  </thead>\n",
       "  <tbody>\n",
       "    <tr>\n",
       "      <th>0</th>\n",
       "      <td>33.33333</td>\n",
       "    </tr>\n",
       "  </tbody>\n",
       "</table>\n",
       "</div>"
      ],
      "text/plain": [
       "   pct_product_categories_never_sold\n",
       "0                           33.33333"
      ]
     },
     "execution_count": 4,
     "metadata": {},
     "output_type": "execute_result"
    }
   ],
   "source": [
    "query = \"\"\"\n",
    "SELECT (100.0 * (COUNT(DISTINCT pc.product_category) - COUNT(DISTINCT spc.product_category)) \n",
    "        / COUNT(DISTINCT pc.product_category)\n",
    "    ) AS pct_product_categories_never_sold\n",
    "FROM product_classes pc\n",
    "LEFT JOIN (\n",
    "    SELECT DISTINCT pc.product_category\n",
    "    FROM sales s\n",
    "    JOIN products p ON s.product_id = p.product_id\n",
    "    JOIN product_classes pc ON p.product_class_id = pc.product_class_id\n",
    ") spc ON pc.product_category = spc.product_category;\n",
    "\n",
    "\"\"\"\n",
    "\n",
    "df1 = pd.read_sql(query, conn)\n",
    "df1"
   ]
  },
  {
   "cell_type": "markdown",
   "metadata": {},
   "source": [
    "Since the percentage of unsold product categories is quite high, the VP may consider taking action to remove some of them."
   ]
  },
  {
   "cell_type": "markdown",
   "metadata": {},
   "source": [
    "### The company wants to optimize its product offerings by identifying the top-performing products.\n",
    "Which products generate the highest revenue?"
   ]
  },
  {
   "cell_type": "code",
   "execution_count": 5,
   "metadata": {
    "scrolled": true
   },
   "outputs": [
    {
     "data": {
      "text/html": [
       "<div>\n",
       "<style scoped>\n",
       "    .dataframe tbody tr th:only-of-type {\n",
       "        vertical-align: middle;\n",
       "    }\n",
       "\n",
       "    .dataframe tbody tr th {\n",
       "        vertical-align: top;\n",
       "    }\n",
       "\n",
       "    .dataframe thead th {\n",
       "        text-align: right;\n",
       "    }\n",
       "</style>\n",
       "<table border=\"1\" class=\"dataframe\">\n",
       "  <thead>\n",
       "    <tr style=\"text-align: right;\">\n",
       "      <th></th>\n",
       "      <th>product_name</th>\n",
       "      <th>total_revenue</th>\n",
       "    </tr>\n",
       "  </thead>\n",
       "  <tbody>\n",
       "    <tr>\n",
       "      <th>0</th>\n",
       "      <td>Coke Zero</td>\n",
       "      <td>340.0</td>\n",
       "    </tr>\n",
       "  </tbody>\n",
       "</table>\n",
       "</div>"
      ],
      "text/plain": [
       "  product_name  total_revenue\n",
       "0    Coke Zero          340.0"
      ]
     },
     "execution_count": 5,
     "metadata": {},
     "output_type": "execute_result"
    }
   ],
   "source": [
    "query = \"\"\"\n",
    "SELECT p.product_name, SUM(s.store_sales) AS total_revenue\n",
    "FROM sales s\n",
    "JOIN products p ON s.product_id = p.product_id\n",
    "GROUP BY p.product_name\n",
    "ORDER BY total_revenue DESC\n",
    "LIMIT 1;\n",
    "\"\"\"\n",
    "\n",
    "df2 = pd.read_sql(query, conn)\n",
    "df2"
   ]
  },
  {
   "cell_type": "markdown",
   "metadata": {},
   "source": [
    "The analysis reveals that Coke Zero generates the highest revenue. The company may consider prioritizing it for promotions, ensuring adequate stock levels, and exploring ways to further capitalize on their success."
   ]
  },
  {
   "cell_type": "markdown",
   "metadata": {},
   "source": [
    "###  The marketing team wants to assess the effectiveness of various promotions to determine which strategies drive the highest sales increase. \n",
    "Which promotions resulted in the highest sales increase?"
   ]
  },
  {
   "cell_type": "code",
   "execution_count": 6,
   "metadata": {
    "scrolled": true
   },
   "outputs": [
    {
     "data": {
      "text/html": [
       "<div>\n",
       "<style scoped>\n",
       "    .dataframe tbody tr th:only-of-type {\n",
       "        vertical-align: middle;\n",
       "    }\n",
       "\n",
       "    .dataframe tbody tr th {\n",
       "        vertical-align: top;\n",
       "    }\n",
       "\n",
       "    .dataframe thead th {\n",
       "        text-align: right;\n",
       "    }\n",
       "</style>\n",
       "<table border=\"1\" class=\"dataframe\">\n",
       "  <thead>\n",
       "    <tr style=\"text-align: right;\">\n",
       "      <th></th>\n",
       "      <th>promotion_name</th>\n",
       "      <th>total_sales</th>\n",
       "    </tr>\n",
       "  </thead>\n",
       "  <tbody>\n",
       "    <tr>\n",
       "      <th>0</th>\n",
       "      <td>Summer Sale</td>\n",
       "      <td>385.0</td>\n",
       "    </tr>\n",
       "    <tr>\n",
       "      <th>1</th>\n",
       "      <td>Holiday Discount</td>\n",
       "      <td>200.0</td>\n",
       "    </tr>\n",
       "    <tr>\n",
       "      <th>2</th>\n",
       "      <td>Back to School</td>\n",
       "      <td>75.0</td>\n",
       "    </tr>\n",
       "  </tbody>\n",
       "</table>\n",
       "</div>"
      ],
      "text/plain": [
       "     promotion_name  total_sales\n",
       "0       Summer Sale        385.0\n",
       "1  Holiday Discount        200.0\n",
       "2    Back to School         75.0"
      ]
     },
     "execution_count": 6,
     "metadata": {},
     "output_type": "execute_result"
    }
   ],
   "source": [
    "query = \"\"\"\n",
    "SELECT pr.promotion_name, SUM(s.store_sales) AS total_sales\n",
    "FROM sales s\n",
    "JOIN promotions pr ON s.promotion_id = pr.promotion_id\n",
    "GROUP BY pr.promotion_name\n",
    "ORDER BY total_sales DESC;\n",
    "\n",
    "\"\"\"\n",
    "\n",
    "df3 = pd.read_sql(query, conn)\n",
    "df3"
   ]
  },
  {
   "cell_type": "markdown",
   "metadata": {},
   "source": [
    "The company may consider focusing on the Summer Sale and refining or discontinuing less effective ones."
   ]
  },
  {
   "cell_type": "markdown",
   "metadata": {},
   "source": [
    "### The company wants to evaluate the financial effectiveness of different promotions. Identifying promotions where costs exceeded revenue ensures that inefficient campaigns are either improved or discontinued.\n",
    "Which promotions had the highest ROI? Are there promotions where the cost exceeded revenue?"
   ]
  },
  {
   "cell_type": "code",
   "execution_count": 7,
   "metadata": {
    "scrolled": true
   },
   "outputs": [
    {
     "data": {
      "text/html": [
       "<div>\n",
       "<style scoped>\n",
       "    .dataframe tbody tr th:only-of-type {\n",
       "        vertical-align: middle;\n",
       "    }\n",
       "\n",
       "    .dataframe tbody tr th {\n",
       "        vertical-align: top;\n",
       "    }\n",
       "\n",
       "    .dataframe thead th {\n",
       "        text-align: right;\n",
       "    }\n",
       "</style>\n",
       "<table border=\"1\" class=\"dataframe\">\n",
       "  <thead>\n",
       "    <tr style=\"text-align: right;\">\n",
       "      <th></th>\n",
       "      <th>promotion_id</th>\n",
       "      <th>promotion_name</th>\n",
       "      <th>promotion_cost</th>\n",
       "      <th>revenue_generated</th>\n",
       "      <th>net_profit</th>\n",
       "      <th>ROI</th>\n",
       "    </tr>\n",
       "  </thead>\n",
       "  <tbody>\n",
       "    <tr>\n",
       "      <th>0</th>\n",
       "      <td>201</td>\n",
       "      <td>Summer Sale</td>\n",
       "      <td>50.0</td>\n",
       "      <td>385.0</td>\n",
       "      <td>335.0</td>\n",
       "      <td>7.70</td>\n",
       "    </tr>\n",
       "    <tr>\n",
       "      <th>1</th>\n",
       "      <td>203</td>\n",
       "      <td>Back to School</td>\n",
       "      <td>200.0</td>\n",
       "      <td>75.0</td>\n",
       "      <td>-125.0</td>\n",
       "      <td>0.38</td>\n",
       "    </tr>\n",
       "    <tr>\n",
       "      <th>2</th>\n",
       "      <td>202</td>\n",
       "      <td>Holiday Discount</td>\n",
       "      <td>3000.0</td>\n",
       "      <td>200.0</td>\n",
       "      <td>-2800.0</td>\n",
       "      <td>0.07</td>\n",
       "    </tr>\n",
       "    <tr>\n",
       "      <th>3</th>\n",
       "      <td>204</td>\n",
       "      <td>Black Monday</td>\n",
       "      <td>10000.0</td>\n",
       "      <td>0.0</td>\n",
       "      <td>-10000.0</td>\n",
       "      <td>0.00</td>\n",
       "    </tr>\n",
       "  </tbody>\n",
       "</table>\n",
       "</div>"
      ],
      "text/plain": [
       "   promotion_id    promotion_name  promotion_cost  revenue_generated  \\\n",
       "0           201       Summer Sale            50.0              385.0   \n",
       "1           203    Back to School           200.0               75.0   \n",
       "2           202  Holiday Discount          3000.0              200.0   \n",
       "3           204      Black Monday         10000.0                0.0   \n",
       "\n",
       "   net_profit   ROI  \n",
       "0       335.0  7.70  \n",
       "1      -125.0  0.38  \n",
       "2     -2800.0  0.07  \n",
       "3    -10000.0  0.00  "
      ]
     },
     "execution_count": 7,
     "metadata": {},
     "output_type": "execute_result"
    }
   ],
   "source": [
    "query = \"\"\"\n",
    "WITH promo_sales AS (\n",
    "    SELECT s.promotion_id, SUM(s.store_sales) AS total_revenue\n",
    "    FROM sales s\n",
    "    WHERE s.promotion_id IS NOT NULL\n",
    "    GROUP BY s.promotion_id\n",
    ")\n",
    "SELECT \n",
    "    p.promotion_id, \n",
    "    p.promotion_name, \n",
    "    p.cost AS promotion_cost, \n",
    "    IFNULL(ps.total_revenue, 0) AS revenue_generated,\n",
    "    (IFNULL(ps.total_revenue, 0) - p.cost) AS net_profit,\n",
    "    ROUND((IFNULL(ps.total_revenue, 0) / NULLIF(p.cost, 0)), 2) AS ROI\n",
    "FROM promotions p\n",
    "LEFT JOIN promo_sales ps ON p.promotion_id = ps.promotion_id\n",
    "ORDER BY ROI DESC;\n",
    "\n",
    "\"\"\"\n",
    "\n",
    "df4 = pd.read_sql(query, conn)\n",
    "df4"
   ]
  },
  {
   "cell_type": "markdown",
   "metadata": {},
   "source": [
    "The company may consider reallocating budget toward high-performing promotions and reworking or eliminating unprofitable ones to maximize overall profitability."
   ]
  },
  {
   "cell_type": "markdown",
   "metadata": {},
   "source": [
    "### Understanding the number of one-time customers helps the company assess customer retention and loyalty. \n",
    "How many customers only made a single purchase?"
   ]
  },
  {
   "cell_type": "code",
   "execution_count": 8,
   "metadata": {
    "scrolled": true
   },
   "outputs": [
    {
     "data": {
      "text/html": [
       "<div>\n",
       "<style scoped>\n",
       "    .dataframe tbody tr th:only-of-type {\n",
       "        vertical-align: middle;\n",
       "    }\n",
       "\n",
       "    .dataframe tbody tr th {\n",
       "        vertical-align: top;\n",
       "    }\n",
       "\n",
       "    .dataframe thead th {\n",
       "        text-align: right;\n",
       "    }\n",
       "</style>\n",
       "<table border=\"1\" class=\"dataframe\">\n",
       "  <thead>\n",
       "    <tr style=\"text-align: right;\">\n",
       "      <th></th>\n",
       "      <th>single_purchase_customers</th>\n",
       "    </tr>\n",
       "  </thead>\n",
       "  <tbody>\n",
       "    <tr>\n",
       "      <th>0</th>\n",
       "      <td>2</td>\n",
       "    </tr>\n",
       "  </tbody>\n",
       "</table>\n",
       "</div>"
      ],
      "text/plain": [
       "   single_purchase_customers\n",
       "0                          2"
      ]
     },
     "execution_count": 8,
     "metadata": {},
     "output_type": "execute_result"
    }
   ],
   "source": [
    "query = \"\"\"\n",
    "SELECT COUNT(customer_id) AS single_purchase_customers\n",
    "FROM (\n",
    "    SELECT customer_id\n",
    "    FROM sales\n",
    "    GROUP BY customer_id\n",
    "    HAVING COUNT(*) = 1\n",
    ") AS single_purchases;\n",
    "\"\"\"\n",
    "\n",
    "df5 = pd.read_sql(query, conn)\n",
    "df5"
   ]
  },
  {
   "cell_type": "markdown",
   "metadata": {},
   "source": [
    "How many percentage of customers only made a single purchase?"
   ]
  },
  {
   "cell_type": "code",
   "execution_count": 9,
   "metadata": {
    "scrolled": true
   },
   "outputs": [
    {
     "data": {
      "text/html": [
       "<div>\n",
       "<style scoped>\n",
       "    .dataframe tbody tr th:only-of-type {\n",
       "        vertical-align: middle;\n",
       "    }\n",
       "\n",
       "    .dataframe tbody tr th {\n",
       "        vertical-align: top;\n",
       "    }\n",
       "\n",
       "    .dataframe thead th {\n",
       "        text-align: right;\n",
       "    }\n",
       "</style>\n",
       "<table border=\"1\" class=\"dataframe\">\n",
       "  <thead>\n",
       "    <tr style=\"text-align: right;\">\n",
       "      <th></th>\n",
       "      <th>single_purchase_percentage</th>\n",
       "    </tr>\n",
       "  </thead>\n",
       "  <tbody>\n",
       "    <tr>\n",
       "      <th>0</th>\n",
       "      <td>40.0</td>\n",
       "    </tr>\n",
       "  </tbody>\n",
       "</table>\n",
       "</div>"
      ],
      "text/plain": [
       "   single_purchase_percentage\n",
       "0                        40.0"
      ]
     },
     "execution_count": 9,
     "metadata": {},
     "output_type": "execute_result"
    }
   ],
   "source": [
    "query = \"\"\"\n",
    "SELECT \n",
    "    (COUNT(single_purchases.customer_id) * 100.0 / COUNT(DISTINCT sales.customer_id)) AS single_purchase_percentage\n",
    "FROM (\n",
    "    SELECT customer_id\n",
    "    FROM sales\n",
    "    GROUP BY customer_id\n",
    "    HAVING COUNT(*) = 1\n",
    ") AS single_purchases\n",
    "RIGHT JOIN sales ON single_purchases.customer_id = sales.customer_id;\n",
    "\n",
    "\"\"\"\n",
    "\n",
    "df6 = pd.read_sql(query, conn)\n",
    "df6"
   ]
  },
  {
   "cell_type": "markdown",
   "metadata": {},
   "source": [
    "The company may consider implementing strategies such as personalized marketing, loyalty programs, or follow-up engagement to encourage repeat purchases and improve customer retention."
   ]
  },
  {
   "cell_type": "markdown",
   "metadata": {},
   "source": [
    "### The company wants to evaluate the value of repeat customers compared to one-time buyers. Understanding their spending behavior can help shape retention strategies, loyalty programs, and customer engagement efforts to maximize revenue from high-value customers.\n",
    "How does repeat purchases customer spending compare to single-purchase customers?"
   ]
  },
  {
   "cell_type": "code",
   "execution_count": 10,
   "metadata": {
    "scrolled": true
   },
   "outputs": [
    {
     "data": {
      "text/html": [
       "<div>\n",
       "<style scoped>\n",
       "    .dataframe tbody tr th:only-of-type {\n",
       "        vertical-align: middle;\n",
       "    }\n",
       "\n",
       "    .dataframe tbody tr th {\n",
       "        vertical-align: top;\n",
       "    }\n",
       "\n",
       "    .dataframe thead th {\n",
       "        text-align: right;\n",
       "    }\n",
       "</style>\n",
       "<table border=\"1\" class=\"dataframe\">\n",
       "  <thead>\n",
       "    <tr style=\"text-align: right;\">\n",
       "      <th></th>\n",
       "      <th>customer_segment</th>\n",
       "      <th>customer_count</th>\n",
       "      <th>avg_spent_per_customer</th>\n",
       "    </tr>\n",
       "  </thead>\n",
       "  <tbody>\n",
       "    <tr>\n",
       "      <th>0</th>\n",
       "      <td>Occasional Buyer</td>\n",
       "      <td>3</td>\n",
       "      <td>190.0</td>\n",
       "    </tr>\n",
       "    <tr>\n",
       "      <th>1</th>\n",
       "      <td>Single Purchase</td>\n",
       "      <td>2</td>\n",
       "      <td>65.0</td>\n",
       "    </tr>\n",
       "  </tbody>\n",
       "</table>\n",
       "</div>"
      ],
      "text/plain": [
       "   customer_segment  customer_count  avg_spent_per_customer\n",
       "0  Occasional Buyer               3                   190.0\n",
       "1   Single Purchase               2                    65.0"
      ]
     },
     "execution_count": 10,
     "metadata": {},
     "output_type": "execute_result"
    }
   ],
   "source": [
    "query = \"\"\"\n",
    "WITH customer_purchases AS (\n",
    "    SELECT customer_id, COUNT(*) AS total_purchases, SUM(store_sales) AS total_spent\n",
    "    FROM sales\n",
    "    GROUP BY customer_id\n",
    ")\n",
    "SELECT \n",
    "    CASE \n",
    "        WHEN total_purchases = 1 THEN 'Single Purchase'\n",
    "        WHEN total_purchases BETWEEN 2 AND 5 THEN 'Occasional Buyer'\n",
    "        ELSE 'Frequent Buyer'\n",
    "    END AS customer_segment,\n",
    "    COUNT(customer_id) AS customer_count,\n",
    "    AVG(total_spent) AS avg_spent_per_customer\n",
    "FROM customer_purchases\n",
    "GROUP BY customer_segment\n",
    "ORDER BY avg_spent_per_customer DESC;\n",
    "\n",
    "\"\"\"\n",
    "\n",
    "df8 = pd.read_sql(query, conn)\n",
    "df8"
   ]
  },
  {
   "cell_type": "markdown",
   "metadata": {},
   "source": [
    "The analysis shows that repeat customers tend to spend more than single-purchase customers. The company may consider investing in customer retention strategies, such as targeted promotions or loyalty rewards, to encourage repeat purchases and enhance long-term profitability."
   ]
  },
  {
   "cell_type": "code",
   "execution_count": 11,
   "metadata": {},
   "outputs": [],
   "source": [
    "# Close connection\n",
    "cursor.close()\n",
    "conn.close()"
   ]
  },
  {
   "cell_type": "code",
   "execution_count": null,
   "metadata": {},
   "outputs": [],
   "source": []
  }
 ],
 "metadata": {
  "kernelspec": {
   "display_name": "Python 3",
   "language": "python",
   "name": "python3"
  },
  "language_info": {
   "codemirror_mode": {
    "name": "ipython",
    "version": 3
   },
   "file_extension": ".py",
   "mimetype": "text/x-python",
   "name": "python",
   "nbconvert_exporter": "python",
   "pygments_lexer": "ipython3",
   "version": "3.8.5"
  }
 },
 "nbformat": 4,
 "nbformat_minor": 4
}
